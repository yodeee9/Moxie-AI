{
 "cells": [
  {
   "cell_type": "code",
   "execution_count": 4,
   "metadata": {},
   "outputs": [
    {
     "name": "stdout",
     "output_type": "stream",
     "text": [
      "Collecting pdfkit\n",
      "  Downloading pdfkit-1.0.0-py3-none-any.whl.metadata (9.3 kB)\n",
      "Downloading pdfkit-1.0.0-py3-none-any.whl (12 kB)\n",
      "Installing collected packages: pdfkit\n",
      "Successfully installed pdfkit-1.0.0\n",
      "Note: you may need to restart the kernel to use updated packages.\n"
     ]
    }
   ],
   "source": [
    "pip install pdfkit"
   ]
  },
  {
   "cell_type": "code",
   "execution_count": 8,
   "metadata": {},
   "outputs": [
    {
     "name": "stdout",
     "output_type": "stream",
     "text": [
      "Saved https://www.chase.com/personal/credit-cards/card-resource-center/passwordpin as output_pdfs/page_1.html\n",
      "Saved https://www.chase.com/personal/credit-cards/card-resource-center/cardreplace as output_pdfs/page_2.html\n",
      "Saved https://www.chase.com/personal/credit-cards/card-resource-center/cc-payments as output_pdfs/page_3.html\n",
      "Saved https://www.chase.com/personal/credit-cards/card-resource-center/acct-servicing as output_pdfs/page_4.html\n",
      "Saved https://www.chase.com/personal/credit-cards/card-resource-center/profile-settings as output_pdfs/page_5.html\n",
      "Saved https://www.chase.com/personal/credit-cards/card-resource-center/statements as output_pdfs/page_6.html\n",
      "Saved https://www.chase.com/personal/credit-cards/card-resource-center/credit-reports as output_pdfs/page_7.html\n",
      "Saved https://www.chase.com/personal/credit-cards/card-resource-center/accountalerts as output_pdfs/page_8.html\n",
      "Saved https://www.chase.com/personal/credit-cards/card-resource-center/contactless-cards as output_pdfs/page_9.html\n",
      "Saved https://www.chase.com/personal/credit-cards/card-resource-center/stored-cards as output_pdfs/page_10.html\n",
      "Saved https://www.chase.com/personal/credit-cards/card-resource-center/digital-wallets as output_pdfs/page_11.html\n",
      "Saved https://www.chase.com/personal/credit-cards/card-resource-center/fraud-security as output_pdfs/page_12.html\n",
      "Saved https://www.chase.com/personal/credit-cards/card-resource-center/understanding-cc-accounts as output_pdfs/page_13.html\n"
     ]
    }
   ],
   "source": [
    "import requests\n",
    "import os\n",
    "\n",
    "def save_webpage_as_html(url, output_file):\n",
    "    # WebページのHTMLを取得\n",
    "    response = requests.get(url)\n",
    "    if response.status_code == 200:\n",
    "        # HTMLをファイルに保存\n",
    "        with open(output_file, 'w', encoding='utf-8') as file:\n",
    "            file.write(response.text)\n",
    "        print(f\"Saved {url} as {output_file}\")\n",
    "    else:\n",
    "        print(f\"Failed to retrieve {url}\")\n",
    "\n",
    "def save_multiple_pages_as_html(urls, output_folder):\n",
    "    if not os.path.exists(output_folder):\n",
    "        os.makedirs(output_folder)  # 出力フォルダが存在しない場合は作成\n",
    "    for i, url in enumerate(urls):\n",
    "        output_file = f\"{output_folder}/page_{i+1}.html\"\n",
    "        save_webpage_as_html(url, output_file)\n",
    "\n",
    "# 使用例\n",
    "urls = [\n",
    "    'https://www.chase.com/personal/credit-cards/card-resource-center/passwordpin',\n",
    "    'https://www.chase.com/personal/credit-cards/card-resource-center/cardreplace',\n",
    "    'https://www.chase.com/personal/credit-cards/card-resource-center/cc-payments',\n",
    "    'https://www.chase.com/personal/credit-cards/card-resource-center/acct-servicing',\n",
    "    'https://www.chase.com/personal/credit-cards/card-resource-center/profile-settings',\n",
    "    'https://www.chase.com/personal/credit-cards/card-resource-center/statements',\n",
    "    'https://www.chase.com/personal/credit-cards/card-resource-center/credit-reports',\n",
    "    'https://www.chase.com/personal/credit-cards/card-resource-center/accountalerts',\n",
    "    'https://www.chase.com/personal/credit-cards/card-resource-center/contactless-cards',\n",
    "    'https://www.chase.com/personal/credit-cards/card-resource-center/stored-cards',\n",
    "    'https://www.chase.com/personal/credit-cards/card-resource-center/digital-wallets',\n",
    "    'https://www.chase.com/personal/credit-cards/card-resource-center/fraud-security',\n",
    "    'https://www.chase.com/personal/credit-cards/card-resource-center/understanding-cc-accounts',\n",
    "]\n",
    "\n",
    "output_folder = 'output_pdfs'\n",
    "save_multiple_pages_as_html(urls, output_folder)\n"
   ]
  }
 ],
 "metadata": {
  "kernelspec": {
   "display_name": "Python 3",
   "language": "python",
   "name": "python3"
  },
  "language_info": {
   "codemirror_mode": {
    "name": "ipython",
    "version": 3
   },
   "file_extension": ".py",
   "mimetype": "text/x-python",
   "name": "python",
   "nbconvert_exporter": "python",
   "pygments_lexer": "ipython3",
   "version": "3.12.3"
  }
 },
 "nbformat": 4,
 "nbformat_minor": 2
}
